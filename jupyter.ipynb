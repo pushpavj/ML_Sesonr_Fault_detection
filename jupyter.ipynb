{
 "cells": [
  {
   "cell_type": "code",
   "execution_count": 9,
   "metadata": {},
   "outputs": [
    {
     "ename": "TypeError",
     "evalue": "'builtin_function_or_method' object is not iterable",
     "output_type": "error",
     "traceback": [
      "\u001b[1;31m---------------------------------------------------------------------------\u001b[0m",
      "\u001b[1;31mTypeError\u001b[0m                                 Traceback (most recent call last)",
      "Cell \u001b[1;32mIn[9], line 4\u001b[0m\n\u001b[0;32m      1\u001b[0m requirement_list\u001b[39m=\u001b[39m[]\n\u001b[0;32m      2\u001b[0m \u001b[39mwith\u001b[39;00m \u001b[39mopen\u001b[39m(\u001b[39m\"\u001b[39m\u001b[39mrequirements.txt\u001b[39m\u001b[39m\"\u001b[39m,\u001b[39m'\u001b[39m\u001b[39mrb\u001b[39m\u001b[39m'\u001b[39m) \u001b[39mas\u001b[39;00m f:\n\u001b[0;32m      3\u001b[0m   \u001b[39m#  requirement_list.append(f.readline)\u001b[39;00m\n\u001b[1;32m----> 4\u001b[0m      \u001b[39mfor\u001b[39;00m i \u001b[39min\u001b[39;00m f\u001b[39m.\u001b[39mreadlines:\n\u001b[0;32m      5\u001b[0m         \u001b[39mprint\u001b[39m(i)\n\u001b[0;32m      6\u001b[0m    \u001b[39m# print (f.readlines)\u001b[39;00m\n",
      "\u001b[1;31mTypeError\u001b[0m: 'builtin_function_or_method' object is not iterable"
     ]
    }
   ],
   "source": [
    "requirement_list=[]\n",
    "with open(\"requirements.txt\",'rb') as f:\n",
    "  #  requirement_list.append(f.readline)\n",
    "     for i in f.readlines:\n",
    "        print(i)\n",
    "   # print (f.readlines)"
   ]
  },
  {
   "cell_type": "code",
   "execution_count": 3,
   "metadata": {},
   "outputs": [
    {
     "name": "stdout",
     "output_type": "stream",
     "text": [
      "[<built-in method readline of _io.TextIOWrapper object at 0x00000262130CE6C0>]\n"
     ]
    }
   ],
   "source": [
    "print(requirement_list)"
   ]
  },
  {
   "cell_type": "code",
   "execution_count": 2,
   "metadata": {},
   "outputs": [],
   "source": [
    "import pandas as pd"
   ]
  },
  {
   "cell_type": "markdown",
   "metadata": {},
   "source": []
  },
  {
   "cell_type": "code",
   "execution_count": 14,
   "metadata": {},
   "outputs": [],
   "source": [
    "file=pd.read_table(\"requirements.txt\",header=None)"
   ]
  },
  {
   "cell_type": "code",
   "execution_count": 15,
   "metadata": {},
   "outputs": [
    {
     "name": "stdout",
     "output_type": "stream",
     "text": [
      "                     0\n",
      "0  pymongo[srv]==4.2.0\n"
     ]
    }
   ],
   "source": [
    "print(file)"
   ]
  },
  {
   "cell_type": "code",
   "execution_count": 16,
   "metadata": {},
   "outputs": [
    {
     "name": "stdout",
     "output_type": "stream",
     "text": [
      "0    pymongo[srv]==4.2.0\n",
      "Name: 0, dtype: object\n"
     ]
    }
   ],
   "source": [
    " requirement_list=[]\n",
    " for i in file:\n",
    "      print(file[i])\n",
    "      for j in file[i]:\n",
    "        requirement_list.append(j)"
   ]
  },
  {
   "cell_type": "code",
   "execution_count": 6,
   "metadata": {},
   "outputs": [
    {
     "name": "stdout",
     "output_type": "stream",
     "text": [
      "['pymongo[s', 'v]==4.2.0']\n"
     ]
    }
   ],
   "source": [
    "print(requirement_list)"
   ]
  },
  {
   "cell_type": "code",
   "execution_count": null,
   "metadata": {},
   "outputs": [],
   "source": []
  }
 ],
 "metadata": {
  "kernelspec": {
   "display_name": "Python 3",
   "language": "python",
   "name": "python3"
  },
  "language_info": {
   "codemirror_mode": {
    "name": "ipython",
    "version": 3
   },
   "file_extension": ".py",
   "mimetype": "text/x-python",
   "name": "python",
   "nbconvert_exporter": "python",
   "pygments_lexer": "ipython3",
   "version": "3.8.0"
  },
  "orig_nbformat": 4,
  "vscode": {
   "interpreter": {
    "hash": "448f3f0e756f96caf37a94ee761e903ce82d2896ca7db68bc159a9f49f52f318"
   }
  }
 },
 "nbformat": 4,
 "nbformat_minor": 2
}
